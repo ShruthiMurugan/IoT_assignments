{
 "cells": [
  {
   "cell_type": "markdown",
   "id": "3eaf6716",
   "metadata": {},
   "source": [
    "# Time series analysis-IoT telemetry data"
   ]
  },
  {
   "cell_type": "markdown",
   "id": "5dc090d6",
   "metadata": {},
   "source": [
    "## Import libraries"
   ]
  },
  {
   "cell_type": "code",
   "execution_count": 94,
   "id": "3f037350",
   "metadata": {},
   "outputs": [],
   "source": [
    "import warnings\n",
    "warnings.filterwarnings(\"ignore\")\n",
    "import pandas as pd\n",
    "import numpy as np\n",
    "import matplotlib.pyplot as plt\n",
    "from statsmodels.tsa.arima.model import ARIMA\n",
    "from statsmodels.tsa.seasonal import seasonal_decompose"
   ]
  },
  {
   "cell_type": "markdown",
   "id": "065ebdbf",
   "metadata": {},
   "source": [
    "## Read dataset"
   ]
  },
  {
   "cell_type": "code",
   "execution_count": 95,
   "id": "5e8a63ab",
   "metadata": {},
   "outputs": [],
   "source": [
    "df = pd.read_csv(r\"C:\\Users\\amnsh\\OneDrive\\Desktop\\IoT\\iot_telemetry_data.csv\")"
   ]
  },
  {
   "cell_type": "markdown",
   "id": "5e3bc015",
   "metadata": {},
   "source": [
    "## Set datetime as index"
   ]
  },
  {
   "cell_type": "code",
   "execution_count": 97,
   "id": "a6d5345b",
   "metadata": {},
   "outputs": [
    {
     "name": "stdout",
     "output_type": "stream",
     "text": [
      "<class 'pandas.core.frame.DataFrame'>\n",
      "RangeIndex: 405184 entries, 0 to 405183\n",
      "Data columns (total 9 columns):\n",
      " #   Column    Non-Null Count   Dtype  \n",
      "---  ------    --------------   -----  \n",
      " 0   ts        405184 non-null  float64\n",
      " 1   device    405184 non-null  object \n",
      " 2   co        405184 non-null  float64\n",
      " 3   humidity  405184 non-null  float64\n",
      " 4   light     405184 non-null  bool   \n",
      " 5   lpg       405184 non-null  float64\n",
      " 6   motion    405184 non-null  bool   \n",
      " 7   smoke     405184 non-null  float64\n",
      " 8   temp      405184 non-null  float64\n",
      "dtypes: bool(2), float64(6), object(1)\n",
      "memory usage: 22.4+ MB\n"
     ]
    }
   ],
   "source": [
    "df.info()"
   ]
  },
  {
   "cell_type": "code",
   "execution_count": 100,
   "id": "d40c8e43",
   "metadata": {},
   "outputs": [],
   "source": [
    "# Convert date column to datetime format\n",
    "df['ts'] = pd.to_datetime(df['ts'])"
   ]
  },
  {
   "cell_type": "code",
   "execution_count": 101,
   "id": "d1a8005d",
   "metadata": {},
   "outputs": [],
   "source": [
    "df = df.set_index('ts')"
   ]
  },
  {
   "cell_type": "code",
   "execution_count": 102,
   "id": "3dfb50dc",
   "metadata": {},
   "outputs": [
    {
     "name": "stdout",
     "output_type": "stream",
     "text": [
      "                                          device        co   humidity  light   \n",
      "ts                                                                             \n",
      "1970-01-01 00:00:01.594512094  b8:27:eb:bf:9d:51  0.004956  51.000000  False  \\\n",
      "1970-01-01 00:00:01.594512094  00:0f:00:70:91:0a  0.002840  76.000000  False   \n",
      "1970-01-01 00:00:01.594512098  b8:27:eb:bf:9d:51  0.004976  50.900000  False   \n",
      "1970-01-01 00:00:01.594512099  1c:bf:ce:15:ec:4d  0.004403  76.800003   True   \n",
      "1970-01-01 00:00:01.594512101  b8:27:eb:bf:9d:51  0.004967  50.900000  False   \n",
      "\n",
      "                                    lpg  motion     smoke       temp  \n",
      "ts                                                                    \n",
      "1970-01-01 00:00:01.594512094  0.007651   False  0.020411  22.700000  \n",
      "1970-01-01 00:00:01.594512094  0.005114   False  0.013275  19.700001  \n",
      "1970-01-01 00:00:01.594512098  0.007673   False  0.020475  22.600000  \n",
      "1970-01-01 00:00:01.594512099  0.007023   False  0.018628  27.000000  \n",
      "1970-01-01 00:00:01.594512101  0.007664   False  0.020448  22.600000  \n",
      "                                          device        co   humidity  light   \n",
      "ts                                                                             \n",
      "1970-01-01 00:00:01.595203413  00:0f:00:70:91:0a  0.003745  75.300003  False  \\\n",
      "1970-01-01 00:00:01.595203413  b8:27:eb:bf:9d:51  0.005882  48.500000  False   \n",
      "1970-01-01 00:00:01.595203416  1c:bf:ce:15:ec:4d  0.004540  75.699997   True   \n",
      "1970-01-01 00:00:01.595203416  00:0f:00:70:91:0a  0.003745  75.300003  False   \n",
      "1970-01-01 00:00:01.595203417  b8:27:eb:bf:9d:51  0.005914  48.400000  False   \n",
      "\n",
      "                                    lpg  motion     smoke       temp  \n",
      "ts                                                                    \n",
      "1970-01-01 00:00:01.595203413  0.006247   False  0.016437  19.200001  \n",
      "1970-01-01 00:00:01.595203413  0.008660   False  0.023301  22.200000  \n",
      "1970-01-01 00:00:01.595203416  0.007181   False  0.019076  26.600000  \n",
      "1970-01-01 00:00:01.595203416  0.006247   False  0.016437  19.200001  \n",
      "1970-01-01 00:00:01.595203417  0.008695   False  0.023400  22.200000  \n",
      "                  co       humidity            lpg          smoke   \n",
      "count  405184.000000  405184.000000  405184.000000  405184.000000  \\\n",
      "mean        0.004639      60.511694       0.007237       0.019264   \n",
      "std         0.001250      11.366489       0.001444       0.004086   \n",
      "min         0.001171       1.100000       0.002693       0.006692   \n",
      "25%         0.003919      51.000000       0.006456       0.017024   \n",
      "50%         0.004812      54.900000       0.007489       0.019950   \n",
      "75%         0.005409      74.300003       0.008150       0.021838   \n",
      "max         0.014420      99.900002       0.016567       0.046590   \n",
      "\n",
      "                temp  \n",
      "count  405184.000000  \n",
      "mean       22.453987  \n",
      "std         2.698347  \n",
      "min         0.000000  \n",
      "25%        19.900000  \n",
      "50%        22.200000  \n",
      "75%        23.600000  \n",
      "max        30.600000  \n"
     ]
    }
   ],
   "source": [
    "# Explore the dataset\n",
    "print(df.head())\n",
    "print(df.tail())\n",
    "print(df.describe())"
   ]
  },
  {
   "cell_type": "markdown",
   "id": "ca0db401",
   "metadata": {},
   "source": [
    "## Drop missing values"
   ]
  },
  {
   "cell_type": "code",
   "execution_count": 103,
   "id": "eb44dc2a",
   "metadata": {},
   "outputs": [],
   "source": [
    "df = df.dropna()"
   ]
  },
  {
   "cell_type": "code",
   "execution_count": 104,
   "id": "7257cb8e",
   "metadata": {},
   "outputs": [
    {
     "data": {
      "image/png": "[encoded data removed]",
      "text/plain": [
       "<Figure size 432x288 with 1 Axes>"
      ]
     },
     "metadata": {
      "needs_background": "light"
     },
     "output_type": "display_data"
    }
   ],
   "source": [
    "# Create a line graph of the data\n",
    "plt.plot(df['temp'])\n",
    "plt.title('Environmental Sensor Telemetry Dataset')\n",
    "plt.xlabel('Datetime')\n",
    "plt.ylabel('Temperature')\n",
    "plt.show()"
   ]
  },
  {
   "cell_type": "markdown",
   "id": "72d80edf",
   "metadata": {},
   "source": [
    "## Trend analysis"
   ]
  },
  {
   "cell_type": "code",
   "execution_count": 106,
   "id": "e38f3fc8",
   "metadata": {
    "scrolled": true
   },
   "outputs": [
    {
     "data": {
      "image/png": "[encoded data removed]",
      "text/plain": [
       "<Figure size 432x288 with 1 Axes>"
      ]
     },
     "metadata": {
      "needs_background": "light"
     },
     "output_type": "display_data"
    }
   ],
   "source": [
    "import numpy as np\n",
    "import pandas as pd\n",
    "import matplotlib.pyplot as plt\n",
    "\n",
    "# generate sample data\n",
    "dates = pd.date_range(start='2022-01-01', end='2022-12-31')\n",
    "df = pd.DataFrame({'Date': dates, 'temp': np.random.randn(len(dates)).cumsum()})\n",
    "df.set_index('Date', inplace=True)\n",
    "\n",
    "# fit a polynomial trendline\n",
    "x = np.arange(len(df))\n",
    "y = df['temp'].values\n",
    "poly_fit = np.poly1d(np.polyfit(x, y, deg=3))\n",
    "\n",
    "plt.plot(df.index.values, y)\n",
    "plt.plot(df.index.values, poly_fit(x))\n",
    "plt.xlabel('Datetime')\n",
    "plt.ylabel('Temperature')\n",
    "plt.title('Trend Analysis')\n",
    "plt.show()\n"
   ]
  },
  {
   "cell_type": "markdown",
   "id": "e9a83094",
   "metadata": {},
   "source": [
    "## Seasonality analysis"
   ]
  },
  {
   "cell_type": "code",
   "execution_count": 107,
   "id": "d993f061",
   "metadata": {},
   "outputs": [
    {
     "data": {
      "image/png": "[encoded data removed]",
      "text/plain": [
       "<Figure size 432x288 with 4 Axes>"
      ]
     },
     "metadata": {
      "needs_background": "light"
     },
     "output_type": "display_data"
    }
   ],
   "source": [
    "res = seasonal_decompose(df['temp'], period=24*7)\n",
    "res.plot()\n",
    "plt.show()\n"
   ]
  },
  {
   "cell_type": "code",
   "execution_count": 111,
   "id": "358e28e9",
   "metadata": {},
   "outputs": [
    {
     "data": {
      "text/html": [
       "<div>\n",
       "<style scoped>\n",
       "    .dataframe tbody tr th:only-of-type {\n",
       "        vertical-align: middle;\n",
       "    }\n",
       "\n",
       "    .dataframe tbody tr th {\n",
       "        vertical-align: top;\n",
       "    }\n",
       "\n",
       "    .dataframe thead th {\n",
       "        text-align: right;\n",
       "    }\n",
       "</style>\n",
       "<table border=\"1\" class=\"dataframe\">\n",
       "  <thead>\n",
       "    <tr style=\"text-align: right;\">\n",
       "      <th></th>\n",
       "      <th>temp</th>\n",
       "    </tr>\n",
       "    <tr>\n",
       "      <th>Date</th>\n",
       "      <th></th>\n",
       "    </tr>\n",
       "  </thead>\n",
       "  <tbody>\n",
       "    <tr>\n",
       "      <th>2022-01-01</th>\n",
       "      <td>0.972291</td>\n",
       "    </tr>\n",
       "    <tr>\n",
       "      <th>2022-01-02</th>\n",
       "      <td>0.894842</td>\n",
       "    </tr>\n",
       "    <tr>\n",
       "      <th>2022-01-03</th>\n",
       "      <td>1.170765</td>\n",
       "    </tr>\n",
       "    <tr>\n",
       "      <th>2022-01-04</th>\n",
       "      <td>1.555107</td>\n",
       "    </tr>\n",
       "    <tr>\n",
       "      <th>2022-01-05</th>\n",
       "      <td>0.982807</td>\n",
       "    </tr>\n",
       "  </tbody>\n",
       "</table>\n",
       "</div>"
      ],
      "text/plain": [
       "                temp\n",
       "Date                \n",
       "2022-01-01  0.972291\n",
       "2022-01-02  0.894842\n",
       "2022-01-03  1.170765\n",
       "2022-01-04  1.555107\n",
       "2022-01-05  0.982807"
      ]
     },
     "execution_count": 111,
     "metadata": {},
     "output_type": "execute_result"
    }
   ],
   "source": [
    "df.head()"
   ]
  },
  {
   "cell_type": "markdown",
   "id": "15433c1e",
   "metadata": {},
   "source": [
    "## Forecasting using an ARIMA model"
   ]
  },
  {
   "cell_type": "code",
   "execution_count": 108,
   "id": "821af3a8",
   "metadata": {},
   "outputs": [
    {
     "name": "stdout",
     "output_type": "stream",
     "text": [
      "2023-01-01    23.325345\n",
      "2023-01-02    23.280090\n",
      "2023-01-03    23.240759\n",
      "2023-01-04    23.206576\n",
      "2023-01-05    23.176867\n",
      "                ...    \n",
      "2023-06-13    22.979594\n",
      "2023-06-14    22.979594\n",
      "2023-06-15    22.979594\n",
      "2023-06-16    22.979594\n",
      "2023-06-17    22.979594\n",
      "Freq: D, Name: predicted_mean, Length: 168, dtype: float64\n"
     ]
    }
   ],
   "source": [
    "model = ARIMA(df['temp'], order=(1, 1, 1))\n",
    "model_fit = model.fit()\n",
    "forecast = model_fit.forecast(steps=24*7)\n",
    "print(forecast)"
   ]
  },
  {
   "cell_type": "markdown",
   "id": "a3e09999",
   "metadata": {},
   "source": [
    "## Metrics"
   ]
  },
  {
   "cell_type": "code",
   "execution_count": 113,
   "id": "83ad4b21",
   "metadata": {},
   "outputs": [
    {
     "name": "stdout",
     "output_type": "stream",
     "text": [
      "Mean absolute error: 0.8095670019845609\n",
      "Root mean squared error: 1.022659698315157\n"
     ]
    }
   ],
   "source": [
    "from sklearn.metrics import mean_absolute_error, mean_squared_error\n",
    "# Calculate the mean absolute error and root mean squared error\n",
    "y_true = df['temp'].values\n",
    "y_pred = model_fit.predict()\n",
    "mae = mean_absolute_error(y_true, y_pred)\n",
    "rmse = np.sqrt(mean_squared_error(y_true, y_pred))\n",
    "print('Mean absolute error:', mae)\n",
    "print('Root mean squared error:', rmse)"
   ]
  },
  {
   "cell_type": "markdown",
   "id": "c8219736",
   "metadata": {},
   "source": [
    "#### Considering the IoT telemetry dataset from kaggle.\n",
    "\n",
    "The dataset has 9 columns:\n",
    "\n",
    "    1.Date\n",
    "    2.Device\n",
    "    3.CO\n",
    "    4.Humidity\n",
    "    5.Light\n",
    "    6.Lpg\n",
    "    7.Smoke\n",
    "    8.Motion\n",
    "    9.Temperature\n",
    "### Steps in time series analysis:\n",
    "1.Data is loaded and cleaned without missing values.\n",
    "\n",
    "2.Date is set as the index of the dataframe.\n",
    "\n",
    "3.Trend analysis is performed by fitting a polynomial trendline.\n",
    "\n",
    "4.Seasonality analysis is done using seasonal decompose.\n",
    "\n",
    "5.ARIMA model is used to forecast.\n",
    "\n",
    "6.Mean absolute error and root mean squared error are computed.\n",
    "\n",
    "#### Results: \n",
    "The predictions are close to accuracy from the built model."
   ]
  },
  {
   "cell_type": "code",
   "execution_count": null,
   "id": "f4700869",
   "metadata": {},
   "outputs": [],
   "source": []
  }
 ],
 "metadata": {
  "kernelspec": {
   "display_name": "Python 3 (ipykernel)",
   "language": "python",
   "name": "python3"
  },
  "language_info": {
   "codemirror_mode": {
    "name": "ipython",
    "version": 3
   },
   "file_extension": ".py",
   "mimetype": "text/x-python",
   "name": "python",
   "nbconvert_exporter": "python",
   "pygments_lexer": "ipython3",
   "version": "3.9.7"
  }
 },
 "nbformat": 4,
 "nbformat_minor": 5
}
